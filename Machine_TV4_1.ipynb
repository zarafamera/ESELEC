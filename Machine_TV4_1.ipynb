{
 "cells": [
  {
   "cell_type": "markdown",
   "id": "3a8c422e-7cd2-4dc6-971b-9227ba3419d5",
   "metadata": {},
   "source": [
    "## Exploratory Data Analysis"
   ]
  },
  {
   "cell_type": "code",
   "execution_count": 1,
   "id": "6abdcfec-6ff1-4fd8-9ecc-7d0bbdf93cdb",
   "metadata": {},
   "outputs": [],
   "source": [
    "# Import necessary libraries\n",
    "import pandas as pd\n",
    "import numpy as np\n",
    "import matplotlib.pyplot as plt\n",
    "import seaborn as sns\n",
    "from plotly.subplots import make_subplots\n",
    "import plotly.graph_objects as go\n",
    "import plotly.graph_objects as go"
   ]
  },
  {
   "cell_type": "code",
   "execution_count": 3,
   "id": "f39f7d44-b845-48ce-a3e3-928dba733537",
   "metadata": {},
   "outputs": [],
   "source": [
    "# Load dataset\n",
    "data_df = pd.read_excel(\"TV4-1 transformed .xlsx\") \n",
    "data = pd.read_excel(\"TV4-1 transformed .xlsx\") \n"
   ]
  },
  {
   "cell_type": "code",
   "execution_count": 4,
   "id": "f9616ac4-037e-4a23-920d-b64716be1104",
   "metadata": {},
   "outputs": [],
   "source": [
    "# Set DateTime as the index for both dataframes\n",
    "for df in [data_df, data]:\n",
    "    df.set_index('DateTime', inplace=True)\n",
    "\n",
    "\n",
    "# Changing the data type of the columns in 'data_df'\n",
    "numeric_columns = data_df.columns[:]\n",
    "data_df[numeric_columns] = data_df[numeric_columns].apply(pd.to_numeric, errors='coerce')\n",
    "\n",
    "# Rename columns by index\n",
    "data_df.columns = [\n",
    "    'Active Power', \n",
    "    'Reactive Power SUB', \n",
    "    'Reactive Power', \n",
    "    'Ia', \n",
    "    'Ib', \n",
    "    'Ic', \n",
    "    'Excitation Current', \n",
    "    'Ua', \n",
    "    'Ub', \n",
    "    'Uc', \n",
    "    'Excitation Voltage'\n",
    "]\n"
   ]
  },
  {
   "cell_type": "code",
   "execution_count": 5,
   "id": "2e4680c3-26b0-4b9c-8881-ceee85935bdd",
   "metadata": {},
   "outputs": [
    {
     "name": "stdout",
     "output_type": "stream",
     "text": [
      "<class 'pandas.core.frame.DataFrame'>\n",
      "DatetimeIndex: 525601 entries, 2020-09-01 00:00:00 to 2021-09-01 00:00:00\n",
      "Data columns (total 11 columns):\n",
      " #   Column              Non-Null Count   Dtype  \n",
      "---  ------              --------------   -----  \n",
      " 0   Active Power        524408 non-null  float64\n",
      " 1   Reactive Power SUB  521859 non-null  float64\n",
      " 2   Reactive Power      524406 non-null  float64\n",
      " 3   Ia                  524405 non-null  float64\n",
      " 4   Ib                  524405 non-null  float64\n",
      " 5   Ic                  524405 non-null  float64\n",
      " 6   Excitation Current  305986 non-null  float64\n",
      " 7   Ua                  524404 non-null  float64\n",
      " 8   Ub                  524404 non-null  float64\n",
      " 9   Uc                  524404 non-null  float64\n",
      " 10  Excitation Voltage  305986 non-null  float64\n",
      "dtypes: float64(11)\n",
      "memory usage: 48.1 MB\n"
     ]
    }
   ],
   "source": [
    "data_df.info()"
   ]
  },
  {
   "cell_type": "code",
   "execution_count": 6,
   "id": "7b304538-a79a-495e-9ac8-b432484af4bd",
   "metadata": {},
   "outputs": [
    {
     "name": "stdout",
     "output_type": "stream",
     "text": [
      "Missing data exists in the following columns: Index(['Active Power', 'Reactive Power SUB', 'Reactive Power', 'Ia', 'Ib',\n",
      "       'Ic', 'Excitation Current', 'Ua', 'Ub', 'Uc', 'Excitation Voltage'],\n",
      "      dtype='object')\n"
     ]
    }
   ],
   "source": [
    "# Check if there is any missing data\n",
    "missing_data = data_df.isnull().sum()\n",
    "if missing_data.sum() == 0:\n",
    "    print(\"There is no missing data.\")\n",
    "else:\n",
    "    print(\"Missing data exists in the following columns:\", missing_data[missing_data != 0].index)\n"
   ]
  },
  {
   "cell_type": "markdown",
   "id": "ea0176b9-3cff-4b25-ae20-91d8acd49473",
   "metadata": {},
   "source": [
    "**Plotting the Time Series for some all the variables before doing any transformations on the data.**\n",
    "\n",
    "- Each subplot is interactive and independent of the others. \n",
    "- This allows you to zoom in and out on one plot without affecting the others"
   ]
  },
  {
   "cell_type": "code",
   "execution_count": null,
   "id": "bfc6504d-9ac2-4ec6-bfed-55e94e75a888",
   "metadata": {
    "tags": []
   },
   "outputs": [],
   "source": [
    "fig = make_subplots(rows=3, cols=1)\n",
    "\n",
    "fig.append_trace(go.Scatter(\n",
    "                x=data_df.index,\n",
    "                y=data_df['Ua'],\n",
    "                name=\"Ua\",\n",
    "                line_color='deepskyblue',\n",
    "                opacity=0.8), row=1, col=1)\n",
    "\n",
    "fig.append_trace(go.Scatter(\n",
    "                x=data_df.index,\n",
    "                y=data_df['Ub'],\n",
    "                name=\"Ub\",\n",
    "                line_color='dimgray',\n",
    "                opacity=0.8), row=2, col=1)\n",
    "\n",
    "fig.append_trace(go.Scatter(\n",
    "                x=data_df.index,\n",
    "                y=data_df['Uc'],\n",
    "                name=\"Uc\",\n",
    "                line_color='darkgreen',\n",
    "                opacity=0.8), row=3, col=1)\n",
    "\n",
    "fig.update_layout(height=800, width=800, title_text=\"Stacked Subplots for Ua, Ub, and Uc\")\n",
    "fig.show()"
   ]
  },
  {
   "cell_type": "code",
   "execution_count": null,
   "id": "d3a9e67a-9ff9-4401-ac2a-1ec20db25310",
   "metadata": {
    "tags": []
   },
   "outputs": [],
   "source": [
    "fig = make_subplots(rows=3, cols=1)\n",
    "\n",
    "fig.append_trace(go.Scatter(\n",
    "                x=data_df.index,\n",
    "                y=data_df['Ia'],\n",
    "                name=\"Ia\",\n",
    "                line_color='darkred',\n",
    "                opacity=0.8), row=1, col=1)\n",
    "\n",
    "fig.append_trace(go.Scatter(\n",
    "                x=data_df.index,\n",
    "                y=data_df['Ib'],\n",
    "                name=\"Ib\",\n",
    "                line_color='purple',\n",
    "                opacity=0.8), row=2, col=1)\n",
    "\n",
    "fig.append_trace(go.Scatter(\n",
    "                x=data_df.index,\n",
    "                y=data_df['Ic'],\n",
    "                name=\"Ic\",\n",
    "                line_color='orange',\n",
    "                opacity=0.8), row=3, col=1)\n",
    "\n",
    "fig.update_layout(height=800, width=800, title_text=\"Stacked Subplots for Ia, Ib, and Ic\")\n",
    "fig.show()"
   ]
  },
  {
   "cell_type": "code",
   "execution_count": null,
   "id": "3e11345a-0573-4bfb-9106-7aec4e6ea81f",
   "metadata": {
    "tags": []
   },
   "outputs": [],
   "source": [
    "fig = make_subplots(rows=3, cols=1)\n",
    "\n",
    "fig.append_trace(go.Scatter(\n",
    "                x=data_df.index,\n",
    "                y=data_df['Active Power'],\n",
    "                name=\"Active Power\",\n",
    "                line_color='yellow',\n",
    "                opacity=0.8), row=1, col=1)\n",
    "\n",
    "fig.append_trace(go.Scatter(\n",
    "                x=data_df.index,\n",
    "                y=data_df['Reactive Power'],\n",
    "                name=\"Reactive Power\",\n",
    "                line_color='lightgreen',\n",
    "                opacity=0.8), row=2, col=1)\n",
    "\n",
    "fig.append_trace(go.Scatter(\n",
    "                x=data_df.index,\n",
    "                y=data_df['Reactive Power SUB'],\n",
    "                name=\"Reactive Power SUB\",\n",
    "                line_color='darkgreen',\n",
    "                opacity=0.8), row=3, col=1)\n",
    "\n",
    "\n",
    "fig.update_layout(height=800, width=800, title_text=\"Stacked Subplots for Active Power, Reactive Power and Reactive Power SUB\")\n",
    "fig.show()"
   ]
  },
  {
   "cell_type": "code",
   "execution_count": null,
   "id": "5a3e6dce-43e5-4104-9613-37e1eea1f5aa",
   "metadata": {
    "tags": []
   },
   "outputs": [],
   "source": [
    "fig = make_subplots(rows=2, cols=1)\n",
    "\n",
    "fig.append_trace(go.Scatter(\n",
    "                x=data_df.index,\n",
    "                y=data_df['Excitation Voltage'],\n",
    "                name=\"Excitation Voltage\",\n",
    "                line_color='pink',\n",
    "                opacity=0.8), row=1, col=1)\n",
    "\n",
    "fig.append_trace(go.Scatter(\n",
    "                x=data_df.index,\n",
    "                y=data_df['Excitation Current'],\n",
    "                name=\"Excitation Current\",\n",
    "                line_color='cyan',\n",
    "                opacity=0.8), row=2, col=1)\n",
    "\n",
    "fig.update_layout(height=800, width=800, title_text=\"Stacked Subplots for Excitation Voltage and Exitation Current\")\n",
    "fig.show()\n"
   ]
  },
  {
   "cell_type": "code",
   "execution_count": 7,
   "id": "f2bf873f-3979-4a17-add0-bff81a28c720",
   "metadata": {},
   "outputs": [],
   "source": [
    "# Replacing zero values with NaN and drop all rows with NaN values\n",
    "data_df.replace(0, np.nan, inplace=True)\n",
    "data_df.dropna(inplace=True)\n"
   ]
  },
  {
   "cell_type": "markdown",
   "id": "cd441189-b001-4c47-be91-ad39f48ce16e",
   "metadata": {},
   "source": [
    "**Plotting the Time Series for all the original variables after dropping all 0 values and NaN's.**\n",
    "\n",
    "- Each subplot is interactive and independent of the others. \n",
    "- This allows you to zoom in and out on one plot without affecting the others"
   ]
  },
  {
   "cell_type": "code",
   "execution_count": null,
   "id": "e0f94bf1-f8a8-44ad-8650-fe74ba5a9d15",
   "metadata": {
    "tags": []
   },
   "outputs": [],
   "source": [
    "fig = make_subplots(rows=3, cols=1)\n",
    "\n",
    "fig.append_trace(go.Scatter(\n",
    "                x=data_df.index,\n",
    "                y=data_df['Ua'],\n",
    "                name=\"Ua\",\n",
    "                line_color='deepskyblue',\n",
    "                opacity=0.8), row=1, col=1)\n",
    "\n",
    "fig.append_trace(go.Scatter(\n",
    "                x=data_df.index,\n",
    "                y=data_df['Ub'],\n",
    "                name=\"Ub\",\n",
    "                line_color='dimgray',\n",
    "                opacity=0.8), row=2, col=1)\n",
    "\n",
    "fig.append_trace(go.Scatter(\n",
    "                x=data_df.index,\n",
    "                y=data_df['Uc'],\n",
    "                name=\"Uc\",\n",
    "                line_color='darkgreen',\n",
    "                opacity=0.8), row=3, col=1)\n",
    "\n",
    "fig.update_layout(height=800, width=800, title_text=\"Stacked Subplots for Ua, Ub, and Uc\")\n",
    "fig.show()"
   ]
  },
  {
   "cell_type": "code",
   "execution_count": null,
   "id": "d0407123-17f2-44e2-88d1-2fdb6d682a2c",
   "metadata": {
    "tags": []
   },
   "outputs": [],
   "source": [
    "fig = make_subplots(rows=3, cols=1)\n",
    "\n",
    "fig.append_trace(go.Scatter(\n",
    "                x=data_df.index,\n",
    "                y=data_df['Ia'],\n",
    "                name=\"Ia\",\n",
    "                line_color='darkred',\n",
    "                opacity=0.8), row=1, col=1)\n",
    "\n",
    "fig.append_trace(go.Scatter(\n",
    "                x=data_df.index,\n",
    "                y=data_df['Ib'],\n",
    "                name=\"Ib\",\n",
    "                line_color='purple',\n",
    "                opacity=0.8), row=2, col=1)\n",
    "\n",
    "fig.append_trace(go.Scatter(\n",
    "                x=data_df.index,\n",
    "                y=data_df['Ic'],\n",
    "                name=\"Ic\",\n",
    "                line_color='orange',\n",
    "                opacity=0.8), row=3, col=1)\n",
    "\n",
    "fig.update_layout(height=800, width=800, title_text=\"Stacked Subplots for Ia, Ib, and Ic\")\n",
    "fig.show()"
   ]
  },
  {
   "cell_type": "code",
   "execution_count": null,
   "id": "d4e5270e-d65e-4c87-9c18-c77c57909d33",
   "metadata": {
    "tags": []
   },
   "outputs": [],
   "source": [
    "fig = make_subplots(rows=3, cols=1)\n",
    "\n",
    "fig.append_trace(go.Scatter(\n",
    "                x=data_df.index,\n",
    "                y=data_df['Active Power'],\n",
    "                name=\"Active Power\",\n",
    "                line_color='yellow',\n",
    "                opacity=0.8), row=1, col=1)\n",
    "\n",
    "fig.append_trace(go.Scatter(\n",
    "                x=data_df.index,\n",
    "                y=data_df['Reactive Power'],\n",
    "                name=\"Reactive Power\",\n",
    "                line_color='lightgreen',\n",
    "                opacity=0.8), row=2, col=1)\n",
    "\n",
    "fig.append_trace(go.Scatter(\n",
    "                x=data_df.index,\n",
    "                y=data_df['Reactive Power SUB'],\n",
    "                name=\"Reactive Power SUB\",\n",
    "                line_color='darkgreen',\n",
    "                opacity=0.8), row=3, col=1)\n",
    "\n",
    "\n",
    "fig.update_layout(height=800, width=800, title_text=\"Stacked Subplots for Active Power, Reactive Power and Reactive Power SUB\")\n",
    "fig.show()"
   ]
  },
  {
   "cell_type": "code",
   "execution_count": null,
   "id": "e5197a1e-fe85-47e4-9e78-a2972fca2646",
   "metadata": {
    "tags": []
   },
   "outputs": [],
   "source": [
    "# Create subplots: 10 rows\n",
    "fig = make_subplots(rows=2, cols=1)\n",
    "\n",
    "fig.append_trace(go.Scatter(\n",
    "                x=data_df.index,\n",
    "                y=data_df['Excitation Voltage'],\n",
    "                name=\"Excitation Voltage\",\n",
    "                line_color='pink',\n",
    "                opacity=0.8), row=1, col=1)\n",
    "\n",
    "fig.append_trace(go.Scatter(\n",
    "                x=data_df.index,\n",
    "                y=data_df['Excitation Current'],\n",
    "                name=\"Excitation Current\",\n",
    "                line_color='cyan',\n",
    "                opacity=0.8), row=2, col=1)\n",
    "\n",
    "fig.update_layout(height=800, width=800, title_text=\"Stacked Subplots for Excitation Voltage and Exitation Current\")\n",
    "fig.show()\n"
   ]
  },
  {
   "cell_type": "code",
   "execution_count": 8,
   "id": "b2bc2fa1-8465-47d4-8181-7ed8a12f4169",
   "metadata": {},
   "outputs": [],
   "source": [
    "# Computing differences between different currents\n",
    "data_df['Diff Ia-Ib'] = data_df['Ia'] - data_df['Ib']\n",
    "data_df['Diff Ib-Ic'] = data_df['Ib'] - data_df['Ic']\n",
    "data_df['Diff Ic-Ia'] = data_df['Ic'] - data_df['Ia']\n",
    "\n",
    "# Creating the Apparent power column\n",
    "data_df['Apparent Power'] = np.sqrt(data_df['Active Power']**2 + data_df['Reactive Power']**2)\n",
    "\n",
    "# Creating the 'k' factor column\n",
    "data_df['k'] = data_df['Active Power']/data_df['Apparent Power']\n",
    "\n",
    "# Compute RMS current and voltage\n",
    "data_df['I RMS'] = np.sqrt((data_df['Ia']**2 + data_df['Ib']**2 + data_df['Ic']**2) / 3)\n",
    "data_df['U RMS'] = np.sqrt((data_df['Ua']**2 + data_df['Ub']**2 + data_df['Uc']**2) / 3)\n",
    "\n",
    "# Compute Line-to-Line voltage RMS and current RMS\n",
    "data_df['Line Voltage RMS'] = np.sqrt(3) * data_df['U RMS']\n",
    "data_df['Line Current RMS'] = data_df['I RMS']  # In a balanced system, line current = phase current\n"
   ]
  },
  {
   "cell_type": "markdown",
   "id": "e16ef644-205e-4675-b8b9-16a025556f70",
   "metadata": {},
   "source": [
    "**Plotting the Time Series for the new variables we created.** \n",
    "\n",
    "- This plots are done after the 0's and the NaN's are dropped.\n",
    "- Each subplot is interactive and independent of the others. \n",
    "- This allows you to zoom in and out on one plot without affecting the others"
   ]
  },
  {
   "cell_type": "code",
   "execution_count": null,
   "id": "8e48ecd7-2955-4808-aaed-d932abf52657",
   "metadata": {
    "tags": []
   },
   "outputs": [],
   "source": [
    "fig = make_subplots(rows=3, cols=1)\n",
    "\n",
    "fig.append_trace(go.Scatter(\n",
    "                x=data_df.index,\n",
    "                y=data_df['Diff Ia-Ib'],\n",
    "                name=\"Diff Ia-Ib\",\n",
    "                line_color='deepskyblue',\n",
    "                opacity=0.8), row=1, col=1)\n",
    "\n",
    "fig.append_trace(go.Scatter(\n",
    "                x=data_df.index,\n",
    "                y=data_df['Diff Ib-Ic'],\n",
    "                name=\"Diff Ib-Ic\",\n",
    "                line_color='dimgray',\n",
    "                opacity=0.8), row=2, col=1)\n",
    "\n",
    "fig.append_trace(go.Scatter(\n",
    "                x=data_df.index,\n",
    "                y=data_df['Diff Ic-Ia'],\n",
    "                name=\"Diff Ic-Ia\",\n",
    "                line_color='darkgreen',\n",
    "                opacity=0.8), row=3, col=1)\n",
    "\n",
    "fig.update_layout(height=800, width=800, title_text=\"Current Differences\")\n",
    "fig.show()\n"
   ]
  },
  {
   "cell_type": "code",
   "execution_count": null,
   "id": "308c4ede-8521-4873-bd3b-7b689d01dd9f",
   "metadata": {
    "tags": []
   },
   "outputs": [],
   "source": [
    "fig = go.Figure()\n",
    "\n",
    "fig.add_trace(go.Scatter(\n",
    "                x=data_df.index,\n",
    "                y=data_df['Apparent Power'],\n",
    "                name=\"Apparent Power\",\n",
    "                line_color='darkred',\n",
    "                opacity=0.8))\n",
    "\n",
    "fig.update_layout(height=400, width=800, title_text=\"Apparent Power\")\n",
    "fig.show()\n"
   ]
  },
  {
   "cell_type": "code",
   "execution_count": null,
   "id": "d05cb83d-5761-40c2-8a18-3dc0e0c54de5",
   "metadata": {
    "tags": []
   },
   "outputs": [],
   "source": [
    "fig = go.Figure()\n",
    "\n",
    "fig.add_trace(go.Scatter(\n",
    "                x=data_df.index,\n",
    "                y=data_df['k'],\n",
    "                name=\"k factor\",\n",
    "                line_color='purple',\n",
    "                opacity=0.8))\n",
    "\n",
    "fig.update_layout(height=400, width=800, title_text=\"k Factor\")\n",
    "fig.show()\n"
   ]
  },
  {
   "cell_type": "code",
   "execution_count": null,
   "id": "1226b7bb-ed42-41f1-873d-0c984a2e087b",
   "metadata": {
    "tags": []
   },
   "outputs": [],
   "source": [
    "fig = make_subplots(rows=2, cols=1)\n",
    "\n",
    "fig.append_trace(go.Scatter(\n",
    "                x=data_df.index,\n",
    "                y=data_df['I RMS'],\n",
    "                name=\"I RMS\",\n",
    "                line_color='orange',\n",
    "                opacity=0.8), row=1, col=1)\n",
    "\n",
    "fig.append_trace(go.Scatter(\n",
    "                x=data_df.index,\n",
    "                y=data_df['U RMS'],\n",
    "                name=\"U RMS\",\n",
    "                line_color='pink',\n",
    "                opacity=0.8), row=2, col=1)\n",
    "\n",
    "fig.update_layout(height=800, width=800, title_text=\"RMS Current and Voltage\")\n",
    "fig.show()\n"
   ]
  },
  {
   "cell_type": "code",
   "execution_count": null,
   "id": "c140cb25-1abe-4125-8512-b2ae5c0e804b",
   "metadata": {
    "tags": []
   },
   "outputs": [],
   "source": [
    "fig = make_subplots(rows=2, cols=1)\n",
    "\n",
    "fig.append_trace(go.Scatter(\n",
    "                x=data_df.index,\n",
    "                y=data_df['Line Voltage RMS'],\n",
    "                name=\"Line Voltage RMS\",\n",
    "                line_color='cyan',\n",
    "                opacity=0.8), row=1, col=1)\n",
    "\n",
    "fig.append_trace(go.Scatter(\n",
    "                x=data_df.index,\n",
    "                y=data_df['Line Current RMS'],\n",
    "                name=\"Line Current RMS\",\n",
    "                line_color='yellow',\n",
    "                opacity=0.8), row=2, col=1)\n",
    "\n",
    "fig.update_layout(height=800, width=800, title_text=\"Line-to-Line RMS Voltage and Current\")\n",
    "fig.show()\n"
   ]
  },
  {
   "cell_type": "markdown",
   "id": "865368da-5c75-4497-b2e7-08e2bca66d41",
   "metadata": {},
   "source": [
    "**Correlations with the Exitation Current**"
   ]
  },
  {
   "cell_type": "code",
   "execution_count": 10,
   "id": "da540407-e7aa-4dd1-a4d3-1fc90053d858",
   "metadata": {},
   "outputs": [
    {
     "name": "stdout",
     "output_type": "stream",
     "text": [
      "<class 'pandas.core.frame.DataFrame'>\n",
      "DatetimeIndex: 294849 entries, 2021-02-05 01:04:00 to 2021-08-28 23:56:00\n",
      "Data columns (total 20 columns):\n",
      " #   Column              Non-Null Count   Dtype  \n",
      "---  ------              --------------   -----  \n",
      " 0   Active Power        294849 non-null  float64\n",
      " 1   Reactive Power SUB  294849 non-null  float64\n",
      " 2   Reactive Power      294849 non-null  float64\n",
      " 3   Ia                  294849 non-null  float64\n",
      " 4   Ib                  294849 non-null  float64\n",
      " 5   Ic                  294849 non-null  float64\n",
      " 6   Excitation Current  294849 non-null  float64\n",
      " 7   Ua                  294849 non-null  float64\n",
      " 8   Ub                  294849 non-null  float64\n",
      " 9   Uc                  294849 non-null  float64\n",
      " 10  Excitation Voltage  294849 non-null  float64\n",
      " 11  Diff Ia-Ib          294849 non-null  float64\n",
      " 12  Diff Ib-Ic          294849 non-null  float64\n",
      " 13  Diff Ic-Ia          294849 non-null  float64\n",
      " 14  Apparent Power      294849 non-null  float64\n",
      " 15  k                   294849 non-null  float64\n",
      " 16  I RMS               294849 non-null  float64\n",
      " 17  U RMS               294849 non-null  float64\n",
      " 18  Line Voltage RMS    294849 non-null  float64\n",
      " 19  Line Current RMS    294849 non-null  float64\n",
      "dtypes: float64(20)\n",
      "memory usage: 47.2 MB\n"
     ]
    }
   ],
   "source": [
    "data_df.info()"
   ]
  },
  {
   "cell_type": "code",
   "execution_count": null,
   "id": "5227dcb2-3bb3-4f6c-852f-ffc285c5adf3",
   "metadata": {
    "tags": []
   },
   "outputs": [],
   "source": [
    "# Calculate correlation\n",
    "corr = data_df.corr()\n",
    "\n",
    "# Get correlations with 'Excitation Current'\n",
    "excitation_corr = corr['Line Current RMS']\n",
    "\n",
    "# Drop the 'Excitation Current' itself\n",
    "excitation_corr = excitation_corr.drop('Line Current RMS')\n",
    "\n",
    "# Sort the correlations\n",
    "excitation_corr = excitation_corr.sort_values()\n",
    "\n",
    "# Normalize the correlations to range between 0 and 1\n",
    "normalized_corr = (excitation_corr - excitation_corr.min()) / (excitation_corr.max() - excitation_corr.min())\n",
    "\n",
    "# Create a colors array based on correlation values\n",
    "colors = plt.cm.coolwarm(normalized_corr)\n",
    "colors = colors[:, :3]  # Remove the alpha channel\n",
    "colors = ['rgb(' + ', '.join(map(str, [int(color * 255) for color in rgb])) + ')' for rgb in colors]  # Convert to RGB strings\n",
    "\n",
    "# Create bar plot\n",
    "fig = go.Figure(go.Bar(\n",
    "            x=excitation_corr.values,\n",
    "            y=excitation_corr.index,\n",
    "            orientation='h',\n",
    "            marker_color=colors))  # Pass colors to marker_color\n",
    "\n",
    "fig.update_layout(title_text='Correlation of features with Excitation Current',\n",
    "                  xaxis_title=\"Correlation\",\n",
    "                  yaxis_title=\"Feature\",\n",
    "                  height=450)  # Increase the height of the plot\n",
    "\n",
    "fig.show()\n"
   ]
  },
  {
   "cell_type": "code",
   "execution_count": 12,
   "id": "c855898b-2c4a-415b-9457-f2f84534d566",
   "metadata": {},
   "outputs": [
    {
     "data": {
      "text/plain": [
       "count    294849.000000\n",
       "mean          0.982039\n",
       "std           0.032776\n",
       "min          -0.994827\n",
       "25%           0.982545\n",
       "50%           0.995264\n",
       "75%           0.998264\n",
       "max           1.000000\n",
       "Name: k, dtype: float64"
      ]
     },
     "execution_count": 12,
     "metadata": {},
     "output_type": "execute_result"
    }
   ],
   "source": [
    "data_df['k'].describe()"
   ]
  },
  {
   "cell_type": "markdown",
   "id": "6038588f-f37e-492f-a8b2-089df03a2f30",
   "metadata": {},
   "source": [
    "**Outliers detection and elimination**\n",
    "\n",
    "1. **Outlier Identification**:\n",
    "\n",
    "    - Given the minimum k factor = 0.85, to find and remove outliers, a 'k' factor less than 0.87 was used as a threshold.\n",
    "    - Given the mean k factor = 0.99, we also decided to look for outliers when the k factor reaches it's higher levels.\n",
    "    - Given the maximum k factor = 1.00, to find and remove outliers, a 'k' factor more than 0.98 was also used as a threshold.\n",
    "    - Points falling below this threshold were considered as potential candidates for outliers and stored the \"outside_range\" dataframe\n",
    "\n",
    "2. **Important Assumption**: The outliers detection strategy that follows was based in the assumption that the observations initially dropped were moments the data was incorrect due to  possible faliours of the machine.\n",
    "\n",
    "3. **Dataframe Comparisons**: The time indices of \"data\" and \"data_df\" were compared to find moments when the machine was failing (timestamps present in \"data\" but not in \"data_df\"). These were stored in the \"machine_fail\" series.\n",
    "\n",
    "4. **Gap Analysis**: We then identified gaps in the DateTime index of the \"outside_range\" dataframe, where the 'k' factor was below or above our thresholds. These gaps were cross-referenced with the \"machine_fail\" series to determine if these gaps were indeed times of machine failure.\n",
    "\n",
    "**To identify the potential outliers using the k factor for this machine, we will present 2 different combinations of an upper and lower threshold**\n",
    "- Option A: 0.77 < k < 0.999997777 observations falling outside this range will be outliers\n",
    "- Option B: 0.89 < k < 0.98 observations falling outside this range will be outliers"
   ]
  },
  {
   "cell_type": "markdown",
   "id": "b502ab68-db55-452b-a9e8-69b627a00ff3",
   "metadata": {},
   "source": [
    "**Option A**:\n",
    "- Number 1: those observations with k < 0.77 will be considered outliers\n",
    "- Number 2: those observations with k > 0.999997777 will be considered outliers"
   ]
  },
  {
   "cell_type": "code",
   "execution_count": 13,
   "id": "651e8178-e621-4714-b34e-b63318ab998e",
   "metadata": {},
   "outputs": [],
   "source": [
    "# Finding and dropping outliers based on 'k' factor\n",
    "outside_range_1_A = data_df[data_df['k'] < 0.77]\n",
    "outside_range_2_A = data_df[data_df['k'] > 0.999997777]\n",
    "\n",
    "# Finding DateTime index values that exist in 'data' but not in 'data_df' (machine failures)\n",
    "missing_index_values = data.index.difference(data_df.index)\n",
    "machine_fail = pd.Series(missing_index_values, name=\"machine_fail\")\n",
    "\n",
    "# Gap analysis in the outside_range DataFrame OPTION #1 and cross-verification with machine failures\n",
    "complete_index_1_A = pd.date_range(start=outside_range_1_A.index.min(), end=outside_range_1_A.index.max(), freq='1Min')\n",
    "outside_range_gaps_1_A = complete_index_1_A.difference(outside_range_1_A.index)\n",
    "gaps_filled_by_machine_fail_1_A = outside_range_gaps_1_A.intersection(machine_fail)\n",
    "\n",
    "# Gap analysis in the outside_range DataFrame OPTION #2 and cross-verification with machine failures\n",
    "complete_index_2_A = pd.date_range(start=outside_range_2_A.index.min(), end=outside_range_2_A.index.max(), freq='1Min')\n",
    "outside_range_gaps_2_A = complete_index_2_A.difference(outside_range_2_A.index)\n",
    "gaps_filled_by_machine_fail_2_A = outside_range_gaps_2_A.intersection(machine_fail)"
   ]
  },
  {
   "cell_type": "code",
   "execution_count": 14,
   "id": "a4d6d34e-ed8e-4810-8662-76408bc3bccb",
   "metadata": {},
   "outputs": [
    {
     "name": "stdout",
     "output_type": "stream",
     "text": [
      "Number of Observations Droped:  230692\n",
      " \n",
      "For option number 1, with k < 0.77:\n",
      "Number of Observations with k Factor < 0.77:  228\n",
      "Number of Observations droped that have k Factor < 0.77:  224\n",
      " \n",
      "For option number 2, with k > 0.999997777:\n",
      "Number of Observations with k Factor > 0.999997777:  922\n",
      "Number of Observations droped that have k Factor > 0.999997777:  92\n"
     ]
    }
   ],
   "source": [
    "# Summarize analysis\n",
    "print('Number of Observations Droped: ',machine_fail.value_counts().sum())\n",
    "print(' ')\n",
    "print('For option number 1, with k < 0.77:')\n",
    "print('Number of Observations with k Factor < 0.77: ',outside_range_1_A.value_counts().sum())\n",
    "print('Number of Observations droped that have k Factor < 0.77: ',gaps_filled_by_machine_fail_1_A.value_counts().sum())\n",
    "print(' ')\n",
    "print('For option number 2, with k > 0.999997777:')\n",
    "print('Number of Observations with k Factor > 0.999997777: ',outside_range_2_A.value_counts().sum())\n",
    "print('Number of Observations droped that have k Factor > 0.999997777: ',gaps_filled_by_machine_fail_2_A.value_counts().sum())"
   ]
  },
  {
   "cell_type": "markdown",
   "id": "34154de3-69b5-4d38-9e36-e5dc435b6b3e",
   "metadata": {},
   "source": [
    "**Option B**:\n",
    "- Number 1: those observations with k < 0.89 will be considered outliers\n",
    "- Number 2: those observations with k > 0.98 will be considered outliers"
   ]
  },
  {
   "cell_type": "code",
   "execution_count": 15,
   "id": "71b3482e-f882-498f-8826-a33f37df9d0a",
   "metadata": {},
   "outputs": [],
   "source": [
    "# Finding and dropping outliers based on 'k' factor\n",
    "outside_range_1_B = data_df[data_df['k'] < 0.80]\n",
    "outside_range_2_B = data_df[data_df['k'] > 0.98]\n",
    "\n",
    "# Finding DateTime index values that exist in 'data' but not in 'data_df' (machine failures)\n",
    "missing_index_values = data.index.difference(data_df.index)\n",
    "machine_fail = pd.Series(missing_index_values, name=\"machine_fail\")\n",
    "\n",
    "# Gap analysis in the outside_range DataFrame OPTION #1 and cross-verification with machine failures\n",
    "complete_index_1_B = pd.date_range(start=outside_range_1_B.index.min(), end=outside_range_1_B.index.max(), freq='1Min')\n",
    "outside_range_gaps_1_B = complete_index_1_B.difference(outside_range_1_B.index)\n",
    "gaps_filled_by_machine_fail_1_B = outside_range_gaps_1_B.intersection(machine_fail)\n",
    "\n",
    "# Gap analysis in the outside_range DataFrame OPTION #2 and cross-verification with machine failures\n",
    "complete_index_2_B = pd.date_range(start=outside_range_2_B.index.min(), end=outside_range_2_B.index.max(), freq='1Min')\n",
    "outside_range_gaps_2_B = complete_index_2_B.difference(outside_range_2_B.index)\n",
    "gaps_filled_by_machine_fail_2_B = outside_range_gaps_2_B.intersection(machine_fail)"
   ]
  },
  {
   "cell_type": "code",
   "execution_count": 16,
   "id": "ecb5ee44-5dd9-4795-95b5-575e8bc3e984",
   "metadata": {},
   "outputs": [
    {
     "name": "stdout",
     "output_type": "stream",
     "text": [
      "Number of Observations Droped:  230692\n",
      " \n",
      "For option number 1, with k < 0.80:\n",
      "Number of Observations with k Factor < 0.80:  417\n",
      "Number of Observations droped that have k Factor < 0.80:  224\n",
      " \n",
      "For option number 2, with k > 0.98:\n",
      "Number of Observations with k Factor > 0.98:  229075\n",
      "Number of Observations droped that have k Factor > 0.98:  92\n"
     ]
    }
   ],
   "source": [
    "# Summarize analysis\n",
    "print('Number of Observations Droped: ',machine_fail.value_counts().sum())\n",
    "print(' ')\n",
    "print('For option number 1, with k < 0.80:')\n",
    "print('Number of Observations with k Factor < 0.80: ',outside_range_1_B.value_counts().sum())\n",
    "print('Number of Observations droped that have k Factor < 0.80: ',gaps_filled_by_machine_fail_1_B.value_counts().sum())\n",
    "print(' ')\n",
    "print('For option number 2, with k > 0.98:')\n",
    "print('Number of Observations with k Factor > 0.98: ',outside_range_2_B.value_counts().sum())\n",
    "print('Number of Observations droped that have k Factor > 0.98: ',gaps_filled_by_machine_fail_2_B.value_counts().sum())"
   ]
  },
  {
   "cell_type": "markdown",
   "id": "dbeef47e-4a67-4b86-9928-42207095b7c0",
   "metadata": {},
   "source": [
    "- The output suggests that the power factor 'k', being an indicator of the efficiency of power usage, is very likely related with the moments the machine fails (observations dropped).\n",
    "\n",
    "- The efficiency is mostly quite high (mean 'k' is 0.98), but there are some significant deviations.\n",
    "\n",
    "- Specifically, when 'k' is less than 0.77, there are 228 obs with such k factor and, out of those, 224 belong to the time span where we belive the machine failed (the obs dropped initially)\n",
    "\n",
    "- Also, when 'k' is more than 0.999997777, there are 922 obs with such k factor and, out of those, 92 belong to the time span where we belive the machine failed (the obs dropped initially)\n",
    "\n",
    "- However, a slighly increase in both the upper and lower threshold seems to indicate that we found the optimal values for the k factor threshold: \n",
    "    - when k factor is less than 0.80, we have the same number overlaps (224) but the number of obs that are considered outliers but don't belong to the time span of machine faliours increses to 417.\n",
    "    - and also, when k factor is more than 0.98, we have the same number overlaps (92) but the number of obs that are considered outliers but don't belong to the time span of machine faliours increses exponentially to to 229075.\n",
    "\n",
    "- These findings could be used to predict future failures based on monitoring the power factor."
   ]
  },
  {
   "cell_type": "code",
   "execution_count": 17,
   "id": "54e29a4a-9ece-4882-b505-f9d08e09e865",
   "metadata": {},
   "outputs": [],
   "source": [
    "#Creating a new dataframe, new_df, with only the observations where 0.77 < k < 0.999997777\n",
    "\n",
    "new_df = data_df[(data_df['k'] > 0.77) & (data_df['k'] < 0.999997777)]"
   ]
  },
  {
   "cell_type": "code",
   "execution_count": 18,
   "id": "a4e31462-c62c-42a0-bfb0-0c76ee38f854",
   "metadata": {},
   "outputs": [
    {
     "data": {
      "application/vnd.plotly.v1+json": {
       "config": {
        "plotlyServerURL": "https://plot.ly"
       },
       "data": [
        {
         "marker": {
          "color": [
           "rgb(58, 76, 192)",
           "rgb(58, 76, 192)",
           "rgb(58, 76, 192)",
           "rgb(104, 137, 238)",
           "rgb(105, 139, 239)",
           "rgb(107, 141, 240)",
           "rgb(107, 141, 240)",
           "rgb(107, 141, 240)",
           "rgb(157, 189, 254)",
           "rgb(182, 206, 249)",
           "rgb(246, 182, 154)",
           "rgb(179, 3, 38)",
           "rgb(179, 3, 38)",
           "rgb(179, 3, 38)",
           "rgb(179, 3, 38)",
           "rgb(179, 3, 38)",
           "rgb(179, 3, 38)",
           "rgb(0, 0, 0)",
           "rgb(0, 0, 0)"
          ]
         },
         "orientation": "h",
         "type": "bar",
         "x": [
          -0.19865021798275923,
          -0.1772461646122304,
          -0.028642056527074918,
          0.1475210336080082,
          0.15171060168122688,
          0.15247576796028242,
          0.15247576796039997,
          0.15370765674346848,
          0.3004653158741236,
          0.3686429479388021,
          0.6704232055063637,
          0.9985249436563293,
          0.9993975909430368,
          0.9999692706782733,
          0.9999692795390004,
          0.9999732810463257,
          1,
          null,
          null
         ],
         "y": [
          "Diff Ic-Ia",
          "Diff Ia-Ib",
          "Reactive Power SUB",
          "Ub",
          "Ua",
          "U RMS",
          "Line Voltage RMS",
          "Uc",
          "Reactive Power",
          "Diff Ib-Ic",
          "k",
          "Active Power",
          "Apparent Power",
          "Ia",
          "Ic",
          "Ib",
          "I RMS",
          "Excitation Current",
          "Excitation Voltage"
         ]
        }
       ],
       "layout": {
        "autosize": true,
        "template": {
         "data": {
          "bar": [
           {
            "error_x": {
             "color": "#2a3f5f"
            },
            "error_y": {
             "color": "#2a3f5f"
            },
            "marker": {
             "line": {
              "color": "#E5ECF6",
              "width": 0.5
             },
             "pattern": {
              "fillmode": "overlay",
              "size": 10,
              "solidity": 0.2
             }
            },
            "type": "bar"
           }
          ],
          "barpolar": [
           {
            "marker": {
             "line": {
              "color": "#E5ECF6",
              "width": 0.5
             },
             "pattern": {
              "fillmode": "overlay",
              "size": 10,
              "solidity": 0.2
             }
            },
            "type": "barpolar"
           }
          ],
          "carpet": [
           {
            "aaxis": {
             "endlinecolor": "#2a3f5f",
             "gridcolor": "white",
             "linecolor": "white",
             "minorgridcolor": "white",
             "startlinecolor": "#2a3f5f"
            },
            "baxis": {
             "endlinecolor": "#2a3f5f",
             "gridcolor": "white",
             "linecolor": "white",
             "minorgridcolor": "white",
             "startlinecolor": "#2a3f5f"
            },
            "type": "carpet"
           }
          ],
          "choropleth": [
           {
            "colorbar": {
             "outlinewidth": 0,
             "ticks": ""
            },
            "type": "choropleth"
           }
          ],
          "contour": [
           {
            "colorbar": {
             "outlinewidth": 0,
             "ticks": ""
            },
            "colorscale": [
             [
              0,
              "#0d0887"
             ],
             [
              0.1111111111111111,
              "#46039f"
             ],
             [
              0.2222222222222222,
              "#7201a8"
             ],
             [
              0.3333333333333333,
              "#9c179e"
             ],
             [
              0.4444444444444444,
              "#bd3786"
             ],
             [
              0.5555555555555556,
              "#d8576b"
             ],
             [
              0.6666666666666666,
              "#ed7953"
             ],
             [
              0.7777777777777778,
              "#fb9f3a"
             ],
             [
              0.8888888888888888,
              "#fdca26"
             ],
             [
              1,
              "#f0f921"
             ]
            ],
            "type": "contour"
           }
          ],
          "contourcarpet": [
           {
            "colorbar": {
             "outlinewidth": 0,
             "ticks": ""
            },
            "type": "contourcarpet"
           }
          ],
          "heatmap": [
           {
            "colorbar": {
             "outlinewidth": 0,
             "ticks": ""
            },
            "colorscale": [
             [
              0,
              "#0d0887"
             ],
             [
              0.1111111111111111,
              "#46039f"
             ],
             [
              0.2222222222222222,
              "#7201a8"
             ],
             [
              0.3333333333333333,
              "#9c179e"
             ],
             [
              0.4444444444444444,
              "#bd3786"
             ],
             [
              0.5555555555555556,
              "#d8576b"
             ],
             [
              0.6666666666666666,
              "#ed7953"
             ],
             [
              0.7777777777777778,
              "#fb9f3a"
             ],
             [
              0.8888888888888888,
              "#fdca26"
             ],
             [
              1,
              "#f0f921"
             ]
            ],
            "type": "heatmap"
           }
          ],
          "heatmapgl": [
           {
            "colorbar": {
             "outlinewidth": 0,
             "ticks": ""
            },
            "colorscale": [
             [
              0,
              "#0d0887"
             ],
             [
              0.1111111111111111,
              "#46039f"
             ],
             [
              0.2222222222222222,
              "#7201a8"
             ],
             [
              0.3333333333333333,
              "#9c179e"
             ],
             [
              0.4444444444444444,
              "#bd3786"
             ],
             [
              0.5555555555555556,
              "#d8576b"
             ],
             [
              0.6666666666666666,
              "#ed7953"
             ],
             [
              0.7777777777777778,
              "#fb9f3a"
             ],
             [
              0.8888888888888888,
              "#fdca26"
             ],
             [
              1,
              "#f0f921"
             ]
            ],
            "type": "heatmapgl"
           }
          ],
          "histogram": [
           {
            "marker": {
             "pattern": {
              "fillmode": "overlay",
              "size": 10,
              "solidity": 0.2
             }
            },
            "type": "histogram"
           }
          ],
          "histogram2d": [
           {
            "colorbar": {
             "outlinewidth": 0,
             "ticks": ""
            },
            "colorscale": [
             [
              0,
              "#0d0887"
             ],
             [
              0.1111111111111111,
              "#46039f"
             ],
             [
              0.2222222222222222,
              "#7201a8"
             ],
             [
              0.3333333333333333,
              "#9c179e"
             ],
             [
              0.4444444444444444,
              "#bd3786"
             ],
             [
              0.5555555555555556,
              "#d8576b"
             ],
             [
              0.6666666666666666,
              "#ed7953"
             ],
             [
              0.7777777777777778,
              "#fb9f3a"
             ],
             [
              0.8888888888888888,
              "#fdca26"
             ],
             [
              1,
              "#f0f921"
             ]
            ],
            "type": "histogram2d"
           }
          ],
          "histogram2dcontour": [
           {
            "colorbar": {
             "outlinewidth": 0,
             "ticks": ""
            },
            "colorscale": [
             [
              0,
              "#0d0887"
             ],
             [
              0.1111111111111111,
              "#46039f"
             ],
             [
              0.2222222222222222,
              "#7201a8"
             ],
             [
              0.3333333333333333,
              "#9c179e"
             ],
             [
              0.4444444444444444,
              "#bd3786"
             ],
             [
              0.5555555555555556,
              "#d8576b"
             ],
             [
              0.6666666666666666,
              "#ed7953"
             ],
             [
              0.7777777777777778,
              "#fb9f3a"
             ],
             [
              0.8888888888888888,
              "#fdca26"
             ],
             [
              1,
              "#f0f921"
             ]
            ],
            "type": "histogram2dcontour"
           }
          ],
          "mesh3d": [
           {
            "colorbar": {
             "outlinewidth": 0,
             "ticks": ""
            },
            "type": "mesh3d"
           }
          ],
          "parcoords": [
           {
            "line": {
             "colorbar": {
              "outlinewidth": 0,
              "ticks": ""
             }
            },
            "type": "parcoords"
           }
          ],
          "pie": [
           {
            "automargin": true,
            "type": "pie"
           }
          ],
          "scatter": [
           {
            "marker": {
             "colorbar": {
              "outlinewidth": 0,
              "ticks": ""
             }
            },
            "type": "scatter"
           }
          ],
          "scatter3d": [
           {
            "line": {
             "colorbar": {
              "outlinewidth": 0,
              "ticks": ""
             }
            },
            "marker": {
             "colorbar": {
              "outlinewidth": 0,
              "ticks": ""
             }
            },
            "type": "scatter3d"
           }
          ],
          "scattercarpet": [
           {
            "marker": {
             "colorbar": {
              "outlinewidth": 0,
              "ticks": ""
             }
            },
            "type": "scattercarpet"
           }
          ],
          "scattergeo": [
           {
            "marker": {
             "colorbar": {
              "outlinewidth": 0,
              "ticks": ""
             }
            },
            "type": "scattergeo"
           }
          ],
          "scattergl": [
           {
            "marker": {
             "colorbar": {
              "outlinewidth": 0,
              "ticks": ""
             }
            },
            "type": "scattergl"
           }
          ],
          "scattermapbox": [
           {
            "marker": {
             "colorbar": {
              "outlinewidth": 0,
              "ticks": ""
             }
            },
            "type": "scattermapbox"
           }
          ],
          "scatterpolar": [
           {
            "marker": {
             "colorbar": {
              "outlinewidth": 0,
              "ticks": ""
             }
            },
            "type": "scatterpolar"
           }
          ],
          "scatterpolargl": [
           {
            "marker": {
             "colorbar": {
              "outlinewidth": 0,
              "ticks": ""
             }
            },
            "type": "scatterpolargl"
           }
          ],
          "scatterternary": [
           {
            "marker": {
             "colorbar": {
              "outlinewidth": 0,
              "ticks": ""
             }
            },
            "type": "scatterternary"
           }
          ],
          "surface": [
           {
            "colorbar": {
             "outlinewidth": 0,
             "ticks": ""
            },
            "colorscale": [
             [
              0,
              "#0d0887"
             ],
             [
              0.1111111111111111,
              "#46039f"
             ],
             [
              0.2222222222222222,
              "#7201a8"
             ],
             [
              0.3333333333333333,
              "#9c179e"
             ],
             [
              0.4444444444444444,
              "#bd3786"
             ],
             [
              0.5555555555555556,
              "#d8576b"
             ],
             [
              0.6666666666666666,
              "#ed7953"
             ],
             [
              0.7777777777777778,
              "#fb9f3a"
             ],
             [
              0.8888888888888888,
              "#fdca26"
             ],
             [
              1,
              "#f0f921"
             ]
            ],
            "type": "surface"
           }
          ],
          "table": [
           {
            "cells": {
             "fill": {
              "color": "#EBF0F8"
             },
             "line": {
              "color": "white"
             }
            },
            "header": {
             "fill": {
              "color": "#C8D4E3"
             },
             "line": {
              "color": "white"
             }
            },
            "type": "table"
           }
          ]
         },
         "layout": {
          "annotationdefaults": {
           "arrowcolor": "#2a3f5f",
           "arrowhead": 0,
           "arrowwidth": 1
          },
          "autotypenumbers": "strict",
          "coloraxis": {
           "colorbar": {
            "outlinewidth": 0,
            "ticks": ""
           }
          },
          "colorscale": {
           "diverging": [
            [
             0,
             "#8e0152"
            ],
            [
             0.1,
             "#c51b7d"
            ],
            [
             0.2,
             "#de77ae"
            ],
            [
             0.3,
             "#f1b6da"
            ],
            [
             0.4,
             "#fde0ef"
            ],
            [
             0.5,
             "#f7f7f7"
            ],
            [
             0.6,
             "#e6f5d0"
            ],
            [
             0.7,
             "#b8e186"
            ],
            [
             0.8,
             "#7fbc41"
            ],
            [
             0.9,
             "#4d9221"
            ],
            [
             1,
             "#276419"
            ]
           ],
           "sequential": [
            [
             0,
             "#0d0887"
            ],
            [
             0.1111111111111111,
             "#46039f"
            ],
            [
             0.2222222222222222,
             "#7201a8"
            ],
            [
             0.3333333333333333,
             "#9c179e"
            ],
            [
             0.4444444444444444,
             "#bd3786"
            ],
            [
             0.5555555555555556,
             "#d8576b"
            ],
            [
             0.6666666666666666,
             "#ed7953"
            ],
            [
             0.7777777777777778,
             "#fb9f3a"
            ],
            [
             0.8888888888888888,
             "#fdca26"
            ],
            [
             1,
             "#f0f921"
            ]
           ],
           "sequentialminus": [
            [
             0,
             "#0d0887"
            ],
            [
             0.1111111111111111,
             "#46039f"
            ],
            [
             0.2222222222222222,
             "#7201a8"
            ],
            [
             0.3333333333333333,
             "#9c179e"
            ],
            [
             0.4444444444444444,
             "#bd3786"
            ],
            [
             0.5555555555555556,
             "#d8576b"
            ],
            [
             0.6666666666666666,
             "#ed7953"
            ],
            [
             0.7777777777777778,
             "#fb9f3a"
            ],
            [
             0.8888888888888888,
             "#fdca26"
            ],
            [
             1,
             "#f0f921"
            ]
           ]
          },
          "colorway": [
           "#636efa",
           "#EF553B",
           "#00cc96",
           "#ab63fa",
           "#FFA15A",
           "#19d3f3",
           "#FF6692",
           "#B6E880",
           "#FF97FF",
           "#FECB52"
          ],
          "font": {
           "color": "#2a3f5f"
          },
          "geo": {
           "bgcolor": "white",
           "lakecolor": "white",
           "landcolor": "#E5ECF6",
           "showlakes": true,
           "showland": true,
           "subunitcolor": "white"
          },
          "hoverlabel": {
           "align": "left"
          },
          "hovermode": "closest",
          "mapbox": {
           "style": "light"
          },
          "paper_bgcolor": "white",
          "plot_bgcolor": "#E5ECF6",
          "polar": {
           "angularaxis": {
            "gridcolor": "white",
            "linecolor": "white",
            "ticks": ""
           },
           "bgcolor": "#E5ECF6",
           "radialaxis": {
            "gridcolor": "white",
            "linecolor": "white",
            "ticks": ""
           }
          },
          "scene": {
           "xaxis": {
            "backgroundcolor": "#E5ECF6",
            "gridcolor": "white",
            "gridwidth": 2,
            "linecolor": "white",
            "showbackground": true,
            "ticks": "",
            "zerolinecolor": "white"
           },
           "yaxis": {
            "backgroundcolor": "#E5ECF6",
            "gridcolor": "white",
            "gridwidth": 2,
            "linecolor": "white",
            "showbackground": true,
            "ticks": "",
            "zerolinecolor": "white"
           },
           "zaxis": {
            "backgroundcolor": "#E5ECF6",
            "gridcolor": "white",
            "gridwidth": 2,
            "linecolor": "white",
            "showbackground": true,
            "ticks": "",
            "zerolinecolor": "white"
           }
          },
          "shapedefaults": {
           "line": {
            "color": "#2a3f5f"
           }
          },
          "ternary": {
           "aaxis": {
            "gridcolor": "white",
            "linecolor": "white",
            "ticks": ""
           },
           "baxis": {
            "gridcolor": "white",
            "linecolor": "white",
            "ticks": ""
           },
           "bgcolor": "#E5ECF6",
           "caxis": {
            "gridcolor": "white",
            "linecolor": "white",
            "ticks": ""
           }
          },
          "title": {
           "x": 0.05
          },
          "xaxis": {
           "automargin": true,
           "gridcolor": "white",
           "linecolor": "white",
           "ticks": "",
           "title": {
            "standoff": 15
           },
           "zerolinecolor": "white",
           "zerolinewidth": 2
          },
          "yaxis": {
           "automargin": true,
           "gridcolor": "white",
           "linecolor": "white",
           "ticks": "",
           "title": {
            "standoff": 15
           },
           "zerolinecolor": "white",
           "zerolinewidth": 2
          }
         }
        },
        "title": {
         "text": "New correlation of features with Line Current RMS"
        },
        "xaxis": {
         "autorange": true,
         "range": [
          -0.2652418967595792,
          1.06659167877682
         ],
         "title": {
          "text": "Correlation"
         },
         "type": "linear"
        },
        "yaxis": {
         "autorange": true,
         "range": [
          -0.5,
          18.5
         ],
         "title": {
          "text": "Feature"
         },
         "type": "category"
        }
       }
      },
      "image/png": "[encoded data removed]",
      "text/html": [
       "<div>                            <div id=\"76e67662-9f82-4812-b17c-aa16c8659aa0\" class=\"plotly-graph-div\" style=\"height:450px; width:100%;\"></div>            <script type=\"text/javascript\">                require([\"plotly\"], function(Plotly) {                    window.PLOTLYENV=window.PLOTLYENV || {};                                    if (document.getElementById(\"76e67662-9f82-4812-b17c-aa16c8659aa0\")) {                    Plotly.newPlot(                        \"76e67662-9f82-4812-b17c-aa16c8659aa0\",                        [{\"marker\":{\"color\":[\"rgb(58, 76, 192)\",\"rgb(58, 76, 192)\",\"rgb(58, 76, 192)\",\"rgb(104, 137, 238)\",\"rgb(105, 139, 239)\",\"rgb(107, 141, 240)\",\"rgb(107, 141, 240)\",\"rgb(107, 141, 240)\",\"rgb(157, 189, 254)\",\"rgb(182, 206, 249)\",\"rgb(246, 182, 154)\",\"rgb(179, 3, 38)\",\"rgb(179, 3, 38)\",\"rgb(179, 3, 38)\",\"rgb(179, 3, 38)\",\"rgb(179, 3, 38)\",\"rgb(179, 3, 38)\",\"rgb(0, 0, 0)\",\"rgb(0, 0, 0)\"]},\"orientation\":\"h\",\"x\":[-0.19865021798275923,-0.1772461646122304,-0.028642056527074918,0.1475210336080082,0.15171060168122688,0.15247576796028242,0.15247576796039997,0.15370765674346848,0.3004653158741236,0.3686429479388021,0.6704232055063637,0.9985249436563293,0.9993975909430368,0.9999692706782733,0.9999692795390004,0.9999732810463257,1.0,null,null],\"y\":[\"Diff Ic-Ia\",\"Diff Ia-Ib\",\"Reactive Power SUB\",\"Ub\",\"Ua\",\"U RMS\",\"Line Voltage RMS\",\"Uc\",\"Reactive Power\",\"Diff Ib-Ic\",\"k\",\"Active Power\",\"Apparent Power\",\"Ia\",\"Ic\",\"Ib\",\"I RMS\",\"Excitation Current\",\"Excitation Voltage\"],\"type\":\"bar\"}],                        {\"template\":{\"data\":{\"bar\":[{\"error_x\":{\"color\":\"#2a3f5f\"},\"error_y\":{\"color\":\"#2a3f5f\"},\"marker\":{\"line\":{\"color\":\"#E5ECF6\",\"width\":0.5},\"pattern\":{\"fillmode\":\"overlay\",\"size\":10,\"solidity\":0.2}},\"type\":\"bar\"}],\"barpolar\":[{\"marker\":{\"line\":{\"color\":\"#E5ECF6\",\"width\":0.5},\"pattern\":{\"fillmode\":\"overlay\",\"size\":10,\"solidity\":0.2}},\"type\":\"barpolar\"}],\"carpet\":[{\"aaxis\":{\"endlinecolor\":\"#2a3f5f\",\"gridcolor\":\"white\",\"linecolor\":\"white\",\"minorgridcolor\":\"white\",\"startlinecolor\":\"#2a3f5f\"},\"baxis\":{\"endlinecolor\":\"#2a3f5f\",\"gridcolor\":\"white\",\"linecolor\":\"white\",\"minorgridcolor\":\"white\",\"startlinecolor\":\"#2a3f5f\"},\"type\":\"carpet\"}],\"choropleth\":[{\"colorbar\":{\"outlinewidth\":0,\"ticks\":\"\"},\"type\":\"choropleth\"}],\"contour\":[{\"colorbar\":{\"outlinewidth\":0,\"ticks\":\"\"},\"colorscale\":[[0.0,\"#0d0887\"],[0.1111111111111111,\"#46039f\"],[0.2222222222222222,\"#7201a8\"],[0.3333333333333333,\"#9c179e\"],[0.4444444444444444,\"#bd3786\"],[0.5555555555555556,\"#d8576b\"],[0.6666666666666666,\"#ed7953\"],[0.7777777777777778,\"#fb9f3a\"],[0.8888888888888888,\"#fdca26\"],[1.0,\"#f0f921\"]],\"type\":\"contour\"}],\"contourcarpet\":[{\"colorbar\":{\"outlinewidth\":0,\"ticks\":\"\"},\"type\":\"contourcarpet\"}],\"heatmap\":[{\"colorbar\":{\"outlinewidth\":0,\"ticks\":\"\"},\"colorscale\":[[0.0,\"#0d0887\"],[0.1111111111111111,\"#46039f\"],[0.2222222222222222,\"#7201a8\"],[0.3333333333333333,\"#9c179e\"],[0.4444444444444444,\"#bd3786\"],[0.5555555555555556,\"#d8576b\"],[0.6666666666666666,\"#ed7953\"],[0.7777777777777778,\"#fb9f3a\"],[0.8888888888888888,\"#fdca26\"],[1.0,\"#f0f921\"]],\"type\":\"heatmap\"}],\"heatmapgl\":[{\"colorbar\":{\"outlinewidth\":0,\"ticks\":\"\"},\"colorscale\":[[0.0,\"#0d0887\"],[0.1111111111111111,\"#46039f\"],[0.2222222222222222,\"#7201a8\"],[0.3333333333333333,\"#9c179e\"],[0.4444444444444444,\"#bd3786\"],[0.5555555555555556,\"#d8576b\"],[0.6666666666666666,\"#ed7953\"],[0.7777777777777778,\"#fb9f3a\"],[0.8888888888888888,\"#fdca26\"],[1.0,\"#f0f921\"]],\"type\":\"heatmapgl\"}],\"histogram\":[{\"marker\":{\"pattern\":{\"fillmode\":\"overlay\",\"size\":10,\"solidity\":0.2}},\"type\":\"histogram\"}],\"histogram2d\":[{\"colorbar\":{\"outlinewidth\":0,\"ticks\":\"\"},\"colorscale\":[[0.0,\"#0d0887\"],[0.1111111111111111,\"#46039f\"],[0.2222222222222222,\"#7201a8\"],[0.3333333333333333,\"#9c179e\"],[0.4444444444444444,\"#bd3786\"],[0.5555555555555556,\"#d8576b\"],[0.6666666666666666,\"#ed7953\"],[0.7777777777777778,\"#fb9f3a\"],[0.8888888888888888,\"#fdca26\"],[1.0,\"#f0f921\"]],\"type\":\"histogram2d\"}],\"histogram2dcontour\":[{\"colorbar\":{\"outlinewidth\":0,\"ticks\":\"\"},\"colorscale\":[[0.0,\"#0d0887\"],[0.1111111111111111,\"#46039f\"],[0.2222222222222222,\"#7201a8\"],[0.3333333333333333,\"#9c179e\"],[0.4444444444444444,\"#bd3786\"],[0.5555555555555556,\"#d8576b\"],[0.6666666666666666,\"#ed7953\"],[0.7777777777777778,\"#fb9f3a\"],[0.8888888888888888,\"#fdca26\"],[1.0,\"#f0f921\"]],\"type\":\"histogram2dcontour\"}],\"mesh3d\":[{\"colorbar\":{\"outlinewidth\":0,\"ticks\":\"\"},\"type\":\"mesh3d\"}],\"parcoords\":[{\"line\":{\"colorbar\":{\"outlinewidth\":0,\"ticks\":\"\"}},\"type\":\"parcoords\"}],\"pie\":[{\"automargin\":true,\"type\":\"pie\"}],\"scatter\":[{\"marker\":{\"colorbar\":{\"outlinewidth\":0,\"ticks\":\"\"}},\"type\":\"scatter\"}],\"scatter3d\":[{\"line\":{\"colorbar\":{\"outlinewidth\":0,\"ticks\":\"\"}},\"marker\":{\"colorbar\":{\"outlinewidth\":0,\"ticks\":\"\"}},\"type\":\"scatter3d\"}],\"scattercarpet\":[{\"marker\":{\"colorbar\":{\"outlinewidth\":0,\"ticks\":\"\"}},\"type\":\"scattercarpet\"}],\"scattergeo\":[{\"marker\":{\"colorbar\":{\"outlinewidth\":0,\"ticks\":\"\"}},\"type\":\"scattergeo\"}],\"scattergl\":[{\"marker\":{\"colorbar\":{\"outlinewidth\":0,\"ticks\":\"\"}},\"type\":\"scattergl\"}],\"scattermapbox\":[{\"marker\":{\"colorbar\":{\"outlinewidth\":0,\"ticks\":\"\"}},\"type\":\"scattermapbox\"}],\"scatterpolar\":[{\"marker\":{\"colorbar\":{\"outlinewidth\":0,\"ticks\":\"\"}},\"type\":\"scatterpolar\"}],\"scatterpolargl\":[{\"marker\":{\"colorbar\":{\"outlinewidth\":0,\"ticks\":\"\"}},\"type\":\"scatterpolargl\"}],\"scatterternary\":[{\"marker\":{\"colorbar\":{\"outlinewidth\":0,\"ticks\":\"\"}},\"type\":\"scatterternary\"}],\"surface\":[{\"colorbar\":{\"outlinewidth\":0,\"ticks\":\"\"},\"colorscale\":[[0.0,\"#0d0887\"],[0.1111111111111111,\"#46039f\"],[0.2222222222222222,\"#7201a8\"],[0.3333333333333333,\"#9c179e\"],[0.4444444444444444,\"#bd3786\"],[0.5555555555555556,\"#d8576b\"],[0.6666666666666666,\"#ed7953\"],[0.7777777777777778,\"#fb9f3a\"],[0.8888888888888888,\"#fdca26\"],[1.0,\"#f0f921\"]],\"type\":\"surface\"}],\"table\":[{\"cells\":{\"fill\":{\"color\":\"#EBF0F8\"},\"line\":{\"color\":\"white\"}},\"header\":{\"fill\":{\"color\":\"#C8D4E3\"},\"line\":{\"color\":\"white\"}},\"type\":\"table\"}]},\"layout\":{\"annotationdefaults\":{\"arrowcolor\":\"#2a3f5f\",\"arrowhead\":0,\"arrowwidth\":1},\"autotypenumbers\":\"strict\",\"coloraxis\":{\"colorbar\":{\"outlinewidth\":0,\"ticks\":\"\"}},\"colorscale\":{\"diverging\":[[0,\"#8e0152\"],[0.1,\"#c51b7d\"],[0.2,\"#de77ae\"],[0.3,\"#f1b6da\"],[0.4,\"#fde0ef\"],[0.5,\"#f7f7f7\"],[0.6,\"#e6f5d0\"],[0.7,\"#b8e186\"],[0.8,\"#7fbc41\"],[0.9,\"#4d9221\"],[1,\"#276419\"]],\"sequential\":[[0.0,\"#0d0887\"],[0.1111111111111111,\"#46039f\"],[0.2222222222222222,\"#7201a8\"],[0.3333333333333333,\"#9c179e\"],[0.4444444444444444,\"#bd3786\"],[0.5555555555555556,\"#d8576b\"],[0.6666666666666666,\"#ed7953\"],[0.7777777777777778,\"#fb9f3a\"],[0.8888888888888888,\"#fdca26\"],[1.0,\"#f0f921\"]],\"sequentialminus\":[[0.0,\"#0d0887\"],[0.1111111111111111,\"#46039f\"],[0.2222222222222222,\"#7201a8\"],[0.3333333333333333,\"#9c179e\"],[0.4444444444444444,\"#bd3786\"],[0.5555555555555556,\"#d8576b\"],[0.6666666666666666,\"#ed7953\"],[0.7777777777777778,\"#fb9f3a\"],[0.8888888888888888,\"#fdca26\"],[1.0,\"#f0f921\"]]},\"colorway\":[\"#636efa\",\"#EF553B\",\"#00cc96\",\"#ab63fa\",\"#FFA15A\",\"#19d3f3\",\"#FF6692\",\"#B6E880\",\"#FF97FF\",\"#FECB52\"],\"font\":{\"color\":\"#2a3f5f\"},\"geo\":{\"bgcolor\":\"white\",\"lakecolor\":\"white\",\"landcolor\":\"#E5ECF6\",\"showlakes\":true,\"showland\":true,\"subunitcolor\":\"white\"},\"hoverlabel\":{\"align\":\"left\"},\"hovermode\":\"closest\",\"mapbox\":{\"style\":\"light\"},\"paper_bgcolor\":\"white\",\"plot_bgcolor\":\"#E5ECF6\",\"polar\":{\"angularaxis\":{\"gridcolor\":\"white\",\"linecolor\":\"white\",\"ticks\":\"\"},\"bgcolor\":\"#E5ECF6\",\"radialaxis\":{\"gridcolor\":\"white\",\"linecolor\":\"white\",\"ticks\":\"\"}},\"scene\":{\"xaxis\":{\"backgroundcolor\":\"#E5ECF6\",\"gridcolor\":\"white\",\"gridwidth\":2,\"linecolor\":\"white\",\"showbackground\":true,\"ticks\":\"\",\"zerolinecolor\":\"white\"},\"yaxis\":{\"backgroundcolor\":\"#E5ECF6\",\"gridcolor\":\"white\",\"gridwidth\":2,\"linecolor\":\"white\",\"showbackground\":true,\"ticks\":\"\",\"zerolinecolor\":\"white\"},\"zaxis\":{\"backgroundcolor\":\"#E5ECF6\",\"gridcolor\":\"white\",\"gridwidth\":2,\"linecolor\":\"white\",\"showbackground\":true,\"ticks\":\"\",\"zerolinecolor\":\"white\"}},\"shapedefaults\":{\"line\":{\"color\":\"#2a3f5f\"}},\"ternary\":{\"aaxis\":{\"gridcolor\":\"white\",\"linecolor\":\"white\",\"ticks\":\"\"},\"baxis\":{\"gridcolor\":\"white\",\"linecolor\":\"white\",\"ticks\":\"\"},\"bgcolor\":\"#E5ECF6\",\"caxis\":{\"gridcolor\":\"white\",\"linecolor\":\"white\",\"ticks\":\"\"}},\"title\":{\"x\":0.05},\"xaxis\":{\"automargin\":true,\"gridcolor\":\"white\",\"linecolor\":\"white\",\"ticks\":\"\",\"title\":{\"standoff\":15},\"zerolinecolor\":\"white\",\"zerolinewidth\":2},\"yaxis\":{\"automargin\":true,\"gridcolor\":\"white\",\"linecolor\":\"white\",\"ticks\":\"\",\"title\":{\"standoff\":15},\"zerolinecolor\":\"white\",\"zerolinewidth\":2}}},\"title\":{\"text\":\"New correlation of features with Line Current RMS\"},\"xaxis\":{\"title\":{\"text\":\"Correlation\"}},\"yaxis\":{\"title\":{\"text\":\"Feature\"}},\"height\":450},                        {\"responsive\": true}                    ).then(function(){\n",
       "                            \n",
       "var gd = document.getElementById('76e67662-9f82-4812-b17c-aa16c8659aa0');\n",
       "var x = new MutationObserver(function (mutations, observer) {{\n",
       "        var display = window.getComputedStyle(gd).display;\n",
       "        if (!display || display === 'none') {{\n",
       "            console.log([gd, 'removed!']);\n",
       "            Plotly.purge(gd);\n",
       "            observer.disconnect();\n",
       "        }}\n",
       "}});\n",
       "\n",
       "// Listen for the removal of the full notebook cells\n",
       "var notebookContainer = gd.closest('#notebook-container');\n",
       "if (notebookContainer) {{\n",
       "    x.observe(notebookContainer, {childList: true});\n",
       "}}\n",
       "\n",
       "// Listen for the clearing of the current output cell\n",
       "var outputEl = gd.closest('.output');\n",
       "if (outputEl) {{\n",
       "    x.observe(outputEl, {childList: true});\n",
       "}}\n",
       "\n",
       "                        })                };                });            </script>        </div>"
      ]
     },
     "metadata": {},
     "output_type": "display_data"
    }
   ],
   "source": [
    "# Calculate the new correlations\n",
    "new_corr = new_df.corr()\n",
    "\n",
    "# Get correlations with 'Excitation Current'\n",
    "new_excitation_corr = new_corr['Line Current RMS']\n",
    "\n",
    "# Drop the 'Excitation Current' itself\n",
    "new_excitation_corr = new_excitation_corr.drop('Line Current RMS')\n",
    "\n",
    "# Sort the correlations\n",
    "new_excitation_corr = new_excitation_corr.sort_values()\n",
    "\n",
    "# Normalize the correlations to range between 0 and 1\n",
    "new_normalized_corr = (new_excitation_corr - new_excitation_corr.min()) / (new_excitation_corr.max() - new_excitation_corr.min())\n",
    "\n",
    "# Create a colors array based on correlation values\n",
    "colors = plt.cm.coolwarm(new_excitation_corr)\n",
    "colors = colors[:, :3]  # Remove the alpha channel\n",
    "colors = ['rgb(' + ', '.join(map(str, [int(color * 255) for color in rgb])) + ')' for rgb in colors]  # Convert to RGB strings\n",
    "\n",
    "# Create bar plot\n",
    "fig = go.Figure(go.Bar(\n",
    "            x=new_excitation_corr.values,\n",
    "            y=new_excitation_corr.index,\n",
    "            orientation='h',\n",
    "            marker_color=colors))  # Pass colors to marker_color\n",
    "\n",
    "fig.update_layout(title_text='New correlation of features with Line Current RMS',\n",
    "                  xaxis_title=\"Correlation\",\n",
    "                  yaxis_title=\"Feature\",\n",
    "                  height=450)  # Increase the height of the plot\n",
    "\n",
    "fig.show()\n"
   ]
  },
  {
   "cell_type": "code",
   "execution_count": 19,
   "id": "6186d181-12fa-41d9-879d-a1f900107ae4",
   "metadata": {},
   "outputs": [
    {
     "data": {
      "text/html": [
       "<div>\n",
       "<style scoped>\n",
       "    .dataframe tbody tr th:only-of-type {\n",
       "        vertical-align: middle;\n",
       "    }\n",
       "\n",
       "    .dataframe tbody tr th {\n",
       "        vertical-align: top;\n",
       "    }\n",
       "\n",
       "    .dataframe thead th {\n",
       "        text-align: right;\n",
       "    }\n",
       "</style>\n",
       "<table border=\"1\" class=\"dataframe\">\n",
       "  <thead>\n",
       "    <tr style=\"text-align: right;\">\n",
       "      <th></th>\n",
       "      <th>excitation_corr</th>\n",
       "      <th>new_excitation_corr</th>\n",
       "      <th>change_in_corr</th>\n",
       "      <th>abs_change_in_corr</th>\n",
       "      <th>perc_change_in_corr</th>\n",
       "    </tr>\n",
       "  </thead>\n",
       "  <tbody>\n",
       "    <tr>\n",
       "      <th>k</th>\n",
       "      <td>0.601349</td>\n",
       "      <td>0.670423</td>\n",
       "      <td>6.907466e-02</td>\n",
       "      <td>6.907466e-02</td>\n",
       "      <td>11.486627</td>\n",
       "    </tr>\n",
       "    <tr>\n",
       "      <th>U RMS</th>\n",
       "      <td>0.130882</td>\n",
       "      <td>0.152476</td>\n",
       "      <td>2.159374e-02</td>\n",
       "      <td>2.159374e-02</td>\n",
       "      <td>16.498627</td>\n",
       "    </tr>\n",
       "    <tr>\n",
       "      <th>Line Voltage RMS</th>\n",
       "      <td>0.130882</td>\n",
       "      <td>0.152476</td>\n",
       "      <td>2.159374e-02</td>\n",
       "      <td>2.159374e-02</td>\n",
       "      <td>16.498627</td>\n",
       "    </tr>\n",
       "    <tr>\n",
       "      <th>Uc</th>\n",
       "      <td>0.132412</td>\n",
       "      <td>0.153708</td>\n",
       "      <td>2.129553e-02</td>\n",
       "      <td>2.129553e-02</td>\n",
       "      <td>16.082765</td>\n",
       "    </tr>\n",
       "    <tr>\n",
       "      <th>Ua</th>\n",
       "      <td>0.130766</td>\n",
       "      <td>0.151711</td>\n",
       "      <td>2.094443e-02</td>\n",
       "      <td>2.094443e-02</td>\n",
       "      <td>16.016701</td>\n",
       "    </tr>\n",
       "    <tr>\n",
       "      <th>Ub</th>\n",
       "      <td>0.127076</td>\n",
       "      <td>0.147521</td>\n",
       "      <td>2.044527e-02</td>\n",
       "      <td>2.044527e-02</td>\n",
       "      <td>16.089039</td>\n",
       "    </tr>\n",
       "    <tr>\n",
       "      <th>Reactive Power SUB</th>\n",
       "      <td>-0.031598</td>\n",
       "      <td>-0.028642</td>\n",
       "      <td>2.956375e-03</td>\n",
       "      <td>2.956375e-03</td>\n",
       "      <td>9.356080</td>\n",
       "    </tr>\n",
       "    <tr>\n",
       "      <th>Reactive Power</th>\n",
       "      <td>0.298261</td>\n",
       "      <td>0.300465</td>\n",
       "      <td>2.204114e-03</td>\n",
       "      <td>2.204114e-03</td>\n",
       "      <td>0.738988</td>\n",
       "    </tr>\n",
       "    <tr>\n",
       "      <th>Diff Ic-Ia</th>\n",
       "      <td>-0.200409</td>\n",
       "      <td>-0.198650</td>\n",
       "      <td>1.758466e-03</td>\n",
       "      <td>1.758466e-03</td>\n",
       "      <td>0.877440</td>\n",
       "    </tr>\n",
       "    <tr>\n",
       "      <th>Diff Ib-Ic</th>\n",
       "      <td>0.370327</td>\n",
       "      <td>0.368643</td>\n",
       "      <td>-1.684258e-03</td>\n",
       "      <td>1.684258e-03</td>\n",
       "      <td>-0.454803</td>\n",
       "    </tr>\n",
       "    <tr>\n",
       "      <th>Diff Ia-Ib</th>\n",
       "      <td>-0.177277</td>\n",
       "      <td>-0.177246</td>\n",
       "      <td>3.125779e-05</td>\n",
       "      <td>3.125779e-05</td>\n",
       "      <td>0.017632</td>\n",
       "    </tr>\n",
       "    <tr>\n",
       "      <th>Active Power</th>\n",
       "      <td>0.998510</td>\n",
       "      <td>0.998525</td>\n",
       "      <td>1.507155e-05</td>\n",
       "      <td>1.507155e-05</td>\n",
       "      <td>0.001509</td>\n",
       "    </tr>\n",
       "    <tr>\n",
       "      <th>Apparent Power</th>\n",
       "      <td>0.999403</td>\n",
       "      <td>0.999398</td>\n",
       "      <td>-5.567435e-06</td>\n",
       "      <td>5.567435e-06</td>\n",
       "      <td>-0.000557</td>\n",
       "    </tr>\n",
       "    <tr>\n",
       "      <th>Ic</th>\n",
       "      <td>0.999969</td>\n",
       "      <td>0.999969</td>\n",
       "      <td>-1.722168e-07</td>\n",
       "      <td>1.722168e-07</td>\n",
       "      <td>-0.000017</td>\n",
       "    </tr>\n",
       "    <tr>\n",
       "      <th>Ia</th>\n",
       "      <td>0.999969</td>\n",
       "      <td>0.999969</td>\n",
       "      <td>-1.517962e-07</td>\n",
       "      <td>1.517962e-07</td>\n",
       "      <td>-0.000015</td>\n",
       "    </tr>\n",
       "    <tr>\n",
       "      <th>Ib</th>\n",
       "      <td>0.999973</td>\n",
       "      <td>0.999973</td>\n",
       "      <td>-1.342429e-07</td>\n",
       "      <td>1.342429e-07</td>\n",
       "      <td>-0.000013</td>\n",
       "    </tr>\n",
       "    <tr>\n",
       "      <th>I RMS</th>\n",
       "      <td>1.000000</td>\n",
       "      <td>1.000000</td>\n",
       "      <td>0.000000e+00</td>\n",
       "      <td>0.000000e+00</td>\n",
       "      <td>0.000000</td>\n",
       "    </tr>\n",
       "    <tr>\n",
       "      <th>Excitation Current</th>\n",
       "      <td>NaN</td>\n",
       "      <td>NaN</td>\n",
       "      <td>NaN</td>\n",
       "      <td>NaN</td>\n",
       "      <td>NaN</td>\n",
       "    </tr>\n",
       "    <tr>\n",
       "      <th>Excitation Voltage</th>\n",
       "      <td>NaN</td>\n",
       "      <td>NaN</td>\n",
       "      <td>NaN</td>\n",
       "      <td>NaN</td>\n",
       "      <td>NaN</td>\n",
       "    </tr>\n",
       "  </tbody>\n",
       "</table>\n",
       "</div>"
      ],
      "text/plain": [
       "                    excitation_corr  new_excitation_corr  change_in_corr  \\\n",
       "k                          0.601349             0.670423    6.907466e-02   \n",
       "U RMS                      0.130882             0.152476    2.159374e-02   \n",
       "Line Voltage RMS           0.130882             0.152476    2.159374e-02   \n",
       "Uc                         0.132412             0.153708    2.129553e-02   \n",
       "Ua                         0.130766             0.151711    2.094443e-02   \n",
       "Ub                         0.127076             0.147521    2.044527e-02   \n",
       "Reactive Power SUB        -0.031598            -0.028642    2.956375e-03   \n",
       "Reactive Power             0.298261             0.300465    2.204114e-03   \n",
       "Diff Ic-Ia                -0.200409            -0.198650    1.758466e-03   \n",
       "Diff Ib-Ic                 0.370327             0.368643   -1.684258e-03   \n",
       "Diff Ia-Ib                -0.177277            -0.177246    3.125779e-05   \n",
       "Active Power               0.998510             0.998525    1.507155e-05   \n",
       "Apparent Power             0.999403             0.999398   -5.567435e-06   \n",
       "Ic                         0.999969             0.999969   -1.722168e-07   \n",
       "Ia                         0.999969             0.999969   -1.517962e-07   \n",
       "Ib                         0.999973             0.999973   -1.342429e-07   \n",
       "I RMS                      1.000000             1.000000    0.000000e+00   \n",
       "Excitation Current              NaN                  NaN             NaN   \n",
       "Excitation Voltage              NaN                  NaN             NaN   \n",
       "\n",
       "                    abs_change_in_corr  perc_change_in_corr  \n",
       "k                         6.907466e-02            11.486627  \n",
       "U RMS                     2.159374e-02            16.498627  \n",
       "Line Voltage RMS          2.159374e-02            16.498627  \n",
       "Uc                        2.129553e-02            16.082765  \n",
       "Ua                        2.094443e-02            16.016701  \n",
       "Ub                        2.044527e-02            16.089039  \n",
       "Reactive Power SUB        2.956375e-03             9.356080  \n",
       "Reactive Power            2.204114e-03             0.738988  \n",
       "Diff Ic-Ia                1.758466e-03             0.877440  \n",
       "Diff Ib-Ic                1.684258e-03            -0.454803  \n",
       "Diff Ia-Ib                3.125779e-05             0.017632  \n",
       "Active Power              1.507155e-05             0.001509  \n",
       "Apparent Power            5.567435e-06            -0.000557  \n",
       "Ic                        1.722168e-07            -0.000017  \n",
       "Ia                        1.517962e-07            -0.000015  \n",
       "Ib                        1.342429e-07            -0.000013  \n",
       "I RMS                     0.000000e+00             0.000000  \n",
       "Excitation Current                 NaN                  NaN  \n",
       "Excitation Voltage                 NaN                  NaN  "
      ]
     },
     "execution_count": 19,
     "metadata": {},
     "output_type": "execute_result"
    }
   ],
   "source": [
    "# Create a dataframe from the two series to compare the correlations before and after removing outliers\n",
    "correlation_df = pd.DataFrame({\n",
    "    'excitation_corr': excitation_corr,\n",
    "    'new_excitation_corr': new_excitation_corr\n",
    "})\n",
    "\n",
    "# Creating a third column to see the change in the correlation for each feature\n",
    "correlation_df['change_in_corr'] = correlation_df['new_excitation_corr'] - correlation_df['excitation_corr']\n",
    "\n",
    "# Sort dataframe by absolute value of 'change_in_corr'\n",
    "correlation_df = correlation_df.assign(abs_change_in_corr=correlation_df['change_in_corr'].abs()).sort_values(by='abs_change_in_corr', ascending=False)\n",
    "\n",
    "# Calculate percentage change in correlation\n",
    "correlation_df['perc_change_in_corr'] = (correlation_df['new_excitation_corr'] - correlation_df['excitation_corr']) / np.abs(correlation_df['excitation_corr']) * 100\n",
    "\n",
    "correlation_df"
   ]
  },
  {
   "cell_type": "code",
   "execution_count": 20,
   "id": "5d4aa356-728f-4cbe-ab45-9c848b9eecf3",
   "metadata": {},
   "outputs": [
    {
     "data": {
      "text/plain": [
       "DateTime\n",
       "2021-02-05 01:08:00   -687.5\n",
       "2021-02-05 01:09:00   -687.5\n",
       "2021-02-05 01:10:00   -687.5\n",
       "2021-02-05 01:11:00   -687.5\n",
       "2021-02-05 01:12:00   -687.5\n",
       "                       ...  \n",
       "2021-08-28 23:51:00   -687.5\n",
       "2021-08-28 23:52:00   -687.5\n",
       "2021-08-28 23:53:00   -687.5\n",
       "2021-08-28 23:54:00   -687.5\n",
       "2021-08-28 23:55:00   -687.5\n",
       "Name: Excitation Current, Length: 293699, dtype: float64"
      ]
     },
     "execution_count": 20,
     "metadata": {},
     "output_type": "execute_result"
    }
   ],
   "source": [
    "new_df['Excitation Current']"
   ]
  },
  {
   "cell_type": "markdown",
   "id": "146791b7-1955-451f-9bba-d9917ba87d69",
   "metadata": {},
   "source": [
    "## Data Preprocessing\n",
    "\n",
    "Before we can feed the data into an LSTM model, we need to preprocess it. This involves:\n",
    "\n",
    "1. Normalizing the data: LSTMs are sensitive to the scale of input data. We'll use Scikit-Learn's `MinMaxScaler` to scale our data to the range [0, 1].\n",
    "2. Reshaping the data: LSTMs expect input data in a specific 3D format of [samples, time steps, features].\n",
    "3. Splitting the data into training and test sets: We'll train our model on one portion of the data, and then test it on another portion to evaluate its performance."
   ]
  },
  {
   "cell_type": "code",
   "execution_count": 22,
   "id": "009761e4-bca3-45d4-b858-6c5e66c764ea",
   "metadata": {},
   "outputs": [],
   "source": [
    "from sklearn.preprocessing import MinMaxScaler\n",
    "from sklearn.model_selection import train_test_split\n",
    "\n",
    "# Define the feature variables (X) and the target variable (y)\n",
    "columns_to_drop = ['Excitation Current', 'U RMS', 'Line Voltage RMS']\n",
    "X = new_df.drop(columns=columns_to_drop)  # Feature Variables\n",
    "y = new_df['Excitation Current']  # Target Variable\n",
    "\n",
    "# Split the data into training and test sets\n",
    "X_train, X_test, y_train, y_test = train_test_split(X, y, test_size=0.2, shuffle=False)\n",
    "\n",
    "# Define the scaler\n",
    "scaler = MinMaxScaler()\n",
    "\n",
    "X_train = scaler.fit_transform(X_train)\n",
    "X_test = scaler.transform(X_test)\n",
    "\n"
   ]
  },
  {
   "cell_type": "code",
   "execution_count": 23,
   "id": "1f91bc9f-6315-495b-9b7e-5858ae6f17bf",
   "metadata": {},
   "outputs": [],
   "source": [
    "# Reshape the input data to be 3-dimensional [samples, timesteps, features]\n",
    "X_train = np.reshape(X_train, (X_train.shape[0], X_train.shape[1], 1))\n",
    "X_test = np.reshape(X_test, (X_test.shape[0], X_test.shape[1], 1))\n"
   ]
  },
  {
   "cell_type": "markdown",
   "id": "3c1d47fe-29f9-482b-aa78-2cbe88dc4af6",
   "metadata": {},
   "source": [
    "## Building the LSTM Model for Time-Series Prediction\n",
    "\n",
    "In this section, we are constructing our LSTM model to predict the future values in our time-series data. The model is built using the Keras library, which provides a high-level, user-friendly API for defining and training neural networks.\n",
    "\n",
    "This LSTM model is designed to learn the temporal dependencies in our data, and use this learning to predict future values of the 'Excitation Current'. The better it can learn these dependencies, the more accurate its predictions will be, and the better it will serve our purpose of detecting anomalies in the generator's operation."
   ]
  },
  {
   "cell_type": "code",
   "execution_count": 24,
   "id": "27b68220-1b8c-486e-b43a-cabee4b5fbca",
   "metadata": {},
   "outputs": [
    {
     "name": "stderr",
     "output_type": "stream",
     "text": [
      "2023-07-10 12:55:00.242368: I tensorflow/core/platform/cpu_feature_guard.cc:182] This TensorFlow binary is optimized to use available CPU instructions in performance-critical operations.\n",
      "To enable the following instructions: AVX2 FMA, in other operations, rebuild TensorFlow with the appropriate compiler flags.\n"
     ]
    }
   ],
   "source": [
    "from tensorflow.keras.models import Sequential\n",
    "from tensorflow.keras.layers import Dense, LSTM, Dropout, RepeatVector, TimeDistributed\n",
    "\n",
    "# Build the LSTM model\n",
    "model = Sequential()\n",
    "model.add(LSTM(50, activation='relu', input_shape=(X_train.shape[1], 1)))\n",
    "model.add(Dense(1))\n",
    "model.compile(optimizer='adam', loss='mean_squared_error')"
   ]
  },
  {
   "cell_type": "markdown",
   "id": "74749aaf-e1a5-45ec-9e1e-f3b66b9810eb",
   "metadata": {},
   "source": [
    "## Training the Model\n",
    "\n",
    "Now that we have defined our LSTM model, the next step is to train it on our data. Training a model is essentially the process of feeding our data into the model and allowing it to adjust its internal parameters to best map the input data to the correct output. This is done through a process called backpropagation and gradient descent."
   ]
  },
  {
   "cell_type": "code",
   "execution_count": 25,
   "id": "19578b19-adcb-470f-b620-d676820d1f0e",
   "metadata": {
    "scrolled": true,
    "tags": []
   },
   "outputs": [
    {
     "name": "stdout",
     "output_type": "stream",
     "text": [
      "Epoch 1/50\n",
      "7343/7343 [==============================] - 83s 11ms/step - loss: 3686.9453\n",
      "Epoch 2/50\n",
      "7343/7343 [==============================] - 86s 12ms/step - loss: 40.5155\n",
      "Epoch 3/50\n",
      "7343/7343 [==============================] - 105s 14ms/step - loss: 34.0997\n",
      "Epoch 4/50\n",
      "7343/7343 [==============================] - 86s 12ms/step - loss: 28.8717\n",
      "Epoch 5/50\n",
      "7343/7343 [==============================] - 76s 10ms/step - loss: 24.1246\n",
      "Epoch 6/50\n",
      "7343/7343 [==============================] - 77s 10ms/step - loss: 20.5693\n",
      "Epoch 7/50\n",
      "7343/7343 [==============================] - 82s 11ms/step - loss: 17.4060\n",
      "Epoch 8/50\n",
      "7343/7343 [==============================] - 82s 11ms/step - loss: 14.8390\n",
      "Epoch 9/50\n",
      "7343/7343 [==============================] - 95s 13ms/step - loss: 12.7723\n",
      "Epoch 10/50\n",
      "7343/7343 [==============================] - 79s 11ms/step - loss: 11.1829\n",
      "Epoch 11/50\n",
      "7343/7343 [==============================] - 76s 10ms/step - loss: 9.8163\n",
      "Epoch 12/50\n",
      "7343/7343 [==============================] - 74s 10ms/step - loss: 8.5125\n",
      "Epoch 13/50\n",
      "7343/7343 [==============================] - 77s 10ms/step - loss: 7.5339\n",
      "Epoch 14/50\n",
      "7343/7343 [==============================] - 75s 10ms/step - loss: 6.8745\n",
      "Epoch 15/50\n",
      "7343/7343 [==============================] - 75s 10ms/step - loss: 6.0028\n",
      "Epoch 16/50\n",
      "7343/7343 [==============================] - 77s 10ms/step - loss: 5.3197\n",
      "Epoch 17/50\n",
      "7343/7343 [==============================] - 84s 11ms/step - loss: 4.9562\n",
      "Epoch 18/50\n",
      "7343/7343 [==============================] - 85s 12ms/step - loss: 4.4383\n",
      "Epoch 19/50\n",
      "7343/7343 [==============================] - 77s 11ms/step - loss: 4.1526\n",
      "Epoch 20/50\n",
      "7343/7343 [==============================] - 76s 10ms/step - loss: 3.8386\n",
      "Epoch 21/50\n",
      "7343/7343 [==============================] - 77s 10ms/step - loss: 3.5725\n",
      "Epoch 22/50\n",
      "7343/7343 [==============================] - 139s 19ms/step - loss: 3.4534\n",
      "Epoch 23/50\n",
      "7343/7343 [==============================] - 84s 11ms/step - loss: 3.2159\n",
      "Epoch 24/50\n",
      "7343/7343 [==============================] - 91s 12ms/step - loss: 3.0530\n",
      "Epoch 25/50\n",
      "7343/7343 [==============================] - 84s 11ms/step - loss: 2.8895\n",
      "Epoch 26/50\n",
      "7343/7343 [==============================] - 84s 11ms/step - loss: 2.7349\n",
      "Epoch 27/50\n",
      "7343/7343 [==============================] - 82s 11ms/step - loss: 2.5779\n",
      "Epoch 28/50\n",
      "7343/7343 [==============================] - 81s 11ms/step - loss: 2.3097\n",
      "Epoch 29/50\n",
      "7343/7343 [==============================] - 80s 11ms/step - loss: 2.2178\n",
      "Epoch 30/50\n",
      "7343/7343 [==============================] - 80s 11ms/step - loss: 2.1422\n",
      "Epoch 31/50\n",
      "7343/7343 [==============================] - 80s 11ms/step - loss: 2.1025\n",
      "Epoch 32/50\n",
      "7343/7343 [==============================] - 79s 11ms/step - loss: 2.0087\n",
      "Epoch 33/50\n",
      "7343/7343 [==============================] - 80s 11ms/step - loss: 2.0838\n",
      "Epoch 34/50\n",
      "7343/7343 [==============================] - 78s 11ms/step - loss: 1.9140\n",
      "Epoch 35/50\n",
      "7343/7343 [==============================] - 79s 11ms/step - loss: 1.8177\n",
      "Epoch 36/50\n",
      "7343/7343 [==============================] - 81s 11ms/step - loss: 1.7883\n",
      "Epoch 37/50\n",
      "7343/7343 [==============================] - 80s 11ms/step - loss: 1.7296\n",
      "Epoch 38/50\n",
      "7343/7343 [==============================] - 80s 11ms/step - loss: 1.6554\n",
      "Epoch 39/50\n",
      "7343/7343 [==============================] - 76s 10ms/step - loss: 1.6620\n",
      "Epoch 40/50\n",
      "7343/7343 [==============================] - 81s 11ms/step - loss: 1.6171\n",
      "Epoch 41/50\n",
      "7343/7343 [==============================] - 78s 11ms/step - loss: 1.5416\n",
      "Epoch 42/50\n",
      "7343/7343 [==============================] - 80s 11ms/step - loss: 1.5039\n",
      "Epoch 43/50\n",
      "7343/7343 [==============================] - 75s 10ms/step - loss: 1.4597\n",
      "Epoch 44/50\n",
      "7343/7343 [==============================] - 77s 10ms/step - loss: 1.4258\n",
      "Epoch 45/50\n",
      "7343/7343 [==============================] - 77s 11ms/step - loss: 1.3990\n",
      "Epoch 46/50\n",
      "7343/7343 [==============================] - 78s 11ms/step - loss: 1.3850\n",
      "Epoch 47/50\n",
      "7343/7343 [==============================] - 80s 11ms/step - loss: 1.3195\n",
      "Epoch 48/50\n",
      "7343/7343 [==============================] - 81s 11ms/step - loss: 1.3879\n",
      "Epoch 49/50\n",
      "7343/7343 [==============================] - 79s 11ms/step - loss: 1.2669\n",
      "Epoch 50/50\n",
      "7343/7343 [==============================] - 84s 11ms/step - loss: 1.2657\n"
     ]
    },
    {
     "data": {
      "text/plain": [
       "<keras.callbacks.History at 0x7fdea84b3eb0>"
      ]
     },
     "execution_count": 25,
     "metadata": {},
     "output_type": "execute_result"
    }
   ],
   "source": [
    "model.fit(X_train, y_train, epochs=50 ,batch_size=32, verbose=1)"
   ]
  },
  {
   "cell_type": "code",
   "execution_count": null,
   "id": "d541759f-b477-4bc8-a628-29256f48010b",
   "metadata": {},
   "outputs": [],
   "source": [
    "# Generate predictions on the test set\n",
    "y_pred = model.predict(X_test)\n",
    "\n",
    "# Calculate the number of time steps per sample\n",
    "time_steps_per_sample = y_pred.shape[1]\n",
    "\n",
    "# Reshape y_test and y_pred for comparison\n",
    "y_test_flattened = np.repeat(y_test.values, time_steps_per_sample)\n",
    "y_pred_flattened = y_pred.reshape(-1)\n",
    "\n",
    "# Calculate the mean squared error of the predictions\n",
    "mse = np.mean((y_test_flattened - y_pred_flattened)**2)\n",
    "print('Mean Squared Error on Test Set:', mse)\n",
    "\n",
    "# Plot the actual vs predicted values\n",
    "plt.figure(figsize=(10, 6))\n",
    "plt.plot(y_test_flattened, label='Actual')\n",
    "plt.plot(y_pred_flattened, label='Predicted')\n",
    "plt.legend()\n",
    "plt.show()"
   ]
  },
  {
   "cell_type": "code",
   "execution_count": 27,
   "id": "87c8797e-656f-4ed4-86f9-1f866b616d2b",
   "metadata": {},
   "outputs": [
    {
     "name": "stdout",
     "output_type": "stream",
     "text": [
      "Root Mean Squared Error on Test Set: 1.7223396011513414\n"
     ]
    }
   ],
   "source": [
    "import math\n",
    "\n",
    "rmse = math.sqrt(mse)\n",
    "print('Root Mean Squared Error on Test Set:', rmse)"
   ]
  },
  {
   "cell_type": "markdown",
   "id": "7a592789-223a-4c01-95e6-84d67bbdcaea",
   "metadata": {},
   "source": [
    "### Saving/Loading the model"
   ]
  },
  {
   "cell_type": "code",
   "execution_count": null,
   "id": "489c6f5c-bff4-435a-883b-289c7f7f6d14",
   "metadata": {},
   "outputs": [],
   "source": [
    "# Save the entire model to a HDF5 file.\n",
    "# The '.h5' extension indicates that the model should be saved to HDF5.\n",
    "model.save('CH_1.h5')"
   ]
  },
  {
   "cell_type": "code",
   "execution_count": null,
   "id": "a187987b-8795-42b2-ad8c-0cac303de0cf",
   "metadata": {},
   "outputs": [],
   "source": [
    "from tensorflow.keras.models import load_model\n",
    "\n",
    "# Recreate the exact same model, including its weights and the optimizer\n",
    "new_model = load_model('CH_1.h5')\n",
    "\n",
    "# Show the model architecture\n",
    "new_model.summary()"
   ]
  }
 ],
 "metadata": {
  "kernelspec": {
   "display_name": "Python 3 (ipykernel)",
   "language": "python",
   "name": "python3"
  },
  "language_info": {
   "codemirror_mode": {
    "name": "ipython",
    "version": 3
   },
   "file_extension": ".py",
   "mimetype": "text/x-python",
   "name": "python",
   "nbconvert_exporter": "python",
   "pygments_lexer": "ipython3",
   "version": "3.9.12"
  }
 },
 "nbformat": 4,
 "nbformat_minor": 5
}
